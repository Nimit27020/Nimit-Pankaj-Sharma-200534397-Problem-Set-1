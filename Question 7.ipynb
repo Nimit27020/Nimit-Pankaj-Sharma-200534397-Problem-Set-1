{
 "cells": [
  {
   "cell_type": "code",
   "execution_count": 3,
   "id": "3abf1ae6",
   "metadata": {},
   "outputs": [],
   "source": [
    "def bldcount(filename):\n",
    "    \n",
    "    #reading the file\n",
    "    x = open(filename,'r')\n",
    "    words = x.readline()\n",
    "    lst = []\n",
    "    blood_types = ['A','B','AB','O','OO']\n",
    "    \n",
    "    #Spliting the words and storing them in a list\n",
    "    lst.append(words.split(\" \"))\n",
    "    \n",
    "    #checking the count for each blood type\n",
    "    for blood_type in blood_types:\n",
    "        print(\"There are {} patients of blood type {}.\".format(lst[0].count(blood_type),blood_type))"
   ]
  },
  {
   "cell_type": "code",
   "execution_count": 4,
   "id": "c0ddea41",
   "metadata": {},
   "outputs": [
    {
     "ename": "NameError",
     "evalue": "name 'b1dcount' is not defined",
     "output_type": "error",
     "traceback": [
      "\u001b[1;31m---------------------------------------------------------------------------\u001b[0m",
      "\u001b[1;31mNameError\u001b[0m                                 Traceback (most recent call last)",
      "Input \u001b[1;32mIn [4]\u001b[0m, in \u001b[0;36m<cell line: 1>\u001b[1;34m()\u001b[0m\n\u001b[1;32m----> 1\u001b[0m \u001b[43mb1dcount\u001b[49m( bloodtype1\u001b[38;5;241m.\u001b[39mtxt )\n",
      "\u001b[1;31mNameError\u001b[0m: name 'b1dcount' is not defined"
     ]
    }
   ],
   "source": [
    "b1dcount( bloodtype1.txt )"
   ]
  },
  {
   "cell_type": "code",
   "execution_count": null,
   "id": "d48b5c10",
   "metadata": {},
   "outputs": [],
   "source": []
  }
 ],
 "metadata": {
  "kernelspec": {
   "display_name": "Python 3 (ipykernel)",
   "language": "python",
   "name": "python3"
  },
  "language_info": {
   "codemirror_mode": {
    "name": "ipython",
    "version": 3
   },
   "file_extension": ".py",
   "mimetype": "text/x-python",
   "name": "python",
   "nbconvert_exporter": "python",
   "pygments_lexer": "ipython3",
   "version": "3.9.12"
  }
 },
 "nbformat": 4,
 "nbformat_minor": 5
}
