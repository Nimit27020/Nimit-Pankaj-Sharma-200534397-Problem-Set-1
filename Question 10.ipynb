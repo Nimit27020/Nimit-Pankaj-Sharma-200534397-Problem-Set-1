{
 "cells": [
  {
   "cell_type": "code",
   "execution_count": 1,
   "id": "cc885063",
   "metadata": {},
   "outputs": [],
   "source": [
    "def frequencies(text):\n",
    "\n",
    "\n",
    "    alphabets = ('a','b','c','d','e','f','g','h','i','j','k','l','m','n','o','p','q','r','s','t','u','v','w','x','y','z')\n",
    "\n",
    "    total_characters = []\n",
    "\n",
    "    alpha_dict = {}\n",
    "\n",
    "\n",
    "    for word in text:\n",
    "\n",
    "        for char in word:\n",
    "\n",
    "            if char.isalpha():\n",
    "\n",
    "                total_characters.append(char)\n",
    "\n",
    "\n",
    "    for char in alphabets:\n",
    "\n",
    "        if char in total_characters:\n",
    "\n",
    "            alpha_dict[char] = total_characters.count(char)\n",
    "\n",
    "        else:\n",
    "\n",
    "            alpha_dict[char] = 0      \n",
    "\n",
    "    print(list(alpha_dict.values()))"
   ]
  },
  {
   "cell_type": "code",
   "execution_count": 2,
   "id": "a7ad1376",
   "metadata": {},
   "outputs": [
    {
     "name": "stdout",
     "output_type": "stream",
     "text": [
      "[1, 1, 1, 3, 5, 1, 1, 2, 1, 0, 1, 0, 1, 2, 4, 0, 1, 2, 0, 2, 1, 0, 1, 1, 0, 0]\n"
     ]
    }
   ],
   "source": [
    "frequencies('The quick red fox got bored and went home')"
   ]
  },
  {
   "cell_type": "code",
   "execution_count": 3,
   "id": "c0656f6c",
   "metadata": {},
   "outputs": [
    {
     "name": "stdout",
     "output_type": "stream",
     "text": [
      "[1, 0, 0, 0, 1, 0, 0, 0, 0, 0, 0, 1, 0, 0, 0, 2, 0, 0, 0, 0, 0, 0, 0, 0, 0, 0]\n"
     ]
    }
   ],
   "source": [
    "frequencies('apple')"
   ]
  },
  {
   "cell_type": "code",
   "execution_count": null,
   "id": "d58e94ab",
   "metadata": {},
   "outputs": [],
   "source": []
  }
 ],
 "metadata": {
  "kernelspec": {
   "display_name": "Python 3 (ipykernel)",
   "language": "python",
   "name": "python3"
  },
  "language_info": {
   "codemirror_mode": {
    "name": "ipython",
    "version": 3
   },
   "file_extension": ".py",
   "mimetype": "text/x-python",
   "name": "python",
   "nbconvert_exporter": "python",
   "pygments_lexer": "ipython3",
   "version": "3.9.12"
  }
 },
 "nbformat": 4,
 "nbformat_minor": 5
}
