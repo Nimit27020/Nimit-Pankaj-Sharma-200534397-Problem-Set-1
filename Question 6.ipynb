{
 "cells": [
  {
   "cell_type": "code",
   "execution_count": 4,
   "id": "cdc00b37",
   "metadata": {},
   "outputs": [
    {
     "name": "stdout",
     "output_type": "stream",
     "text": [
      "Convert message to pig latin: outer\n",
      "outerway\n"
     ]
    }
   ],
   "source": [
    "pigLatin = input(\"Convert message to pig latin: \")\n",
    "wordList = pigLatin.lower().split(\" \")\n",
    "vowels = ['a', 'e', 'i', 'o', 'u']\n",
    "pigLatin = []\n",
    "eachWord = []\n",
    "for word in wordList:\n",
    "    if word[0] in 'aeiou': #case where vowel is first\n",
    "        pigLatin.append(word + 'way')\n",
    "    if word[0] not in 'aeiou':\n",
    "        for letter in word:\n",
    "            if letter in 'aeiou':\n",
    "                pigLatin.append(word[word.index(letter):] + word[:word.index(letter)] +'ay')\n",
    "\n",
    "\n",
    "print(\" \".join(pigLatin))"
   ]
  },
  {
   "cell_type": "code",
   "execution_count": null,
   "id": "9fc18950",
   "metadata": {},
   "outputs": [],
   "source": []
  }
 ],
 "metadata": {
  "kernelspec": {
   "display_name": "Python 3 (ipykernel)",
   "language": "python",
   "name": "python3"
  },
  "language_info": {
   "codemirror_mode": {
    "name": "ipython",
    "version": 3
   },
   "file_extension": ".py",
   "mimetype": "text/x-python",
   "name": "python",
   "nbconvert_exporter": "python",
   "pygments_lexer": "ipython3",
   "version": "3.9.12"
  }
 },
 "nbformat": 4,
 "nbformat_minor": 5
}
